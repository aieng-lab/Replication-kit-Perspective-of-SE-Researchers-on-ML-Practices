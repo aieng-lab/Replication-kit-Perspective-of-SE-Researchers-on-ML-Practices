{
 "cells": [
  {
   "cell_type": "markdown",
   "metadata": {},
   "source": [
    "# Script for obtaining statistics about the papers and their filtering process\n",
    "This scripts computes how many papers were at the begining, how many were filtered because of number of pages. And the statistics about the number of authors in general but also the average of them (assuming that the authors are idnetified by name not email)."
   ]
  },
  {
   "cell_type": "markdown",
   "metadata": {},
   "source": [
    "### Note that the information abouts the authors and theirs emails are not uploaded into the excels due to privacy reasons.!"
   ]
  },
  {
   "cell_type": "code",
   "execution_count": 1,
   "metadata": {},
   "outputs": [],
   "source": [
    "import pandas as pd\n",
    "import numpy as np"
   ]
  },
  {
   "cell_type": "code",
   "execution_count": 2,
   "metadata": {},
   "outputs": [
    {
     "name": "stdout",
     "output_type": "stream",
     "text": [
      "(931, 9) (451, 4) (343, 9)\n"
     ]
    }
   ],
   "source": [
    "#read excel full pages\n",
    "df_first_round = pd.read_excel('../Data/Initial_info_of_papers/authors_and_papers_2020.xlsx', sheet_name=None)\n",
    "df_second_round = pd.read_excel('../Data/Initial_info_of_papers/author_and_paper_2021_22.xlsx', sheet_name=None)\n",
    "\n",
    "#Read General_info_tagging sheet sheet in which ALL (NO FILTER) papers fromm first round are\n",
    "df_first_round_raw = df_first_round['General_info_tagging']\n",
    "# Read RAW_papers from second round sheet in which ALL (NO FILTER) papers fromm first round are\n",
    "df_second_round_raw = df_second_round['RAW']\n",
    "#Read General_info_tagging sheet sheet in which FILTERED (pages >10) papers fromm second round are\n",
    "df_second_round_page_filter = df_second_round['General_info_tagging']\n",
    "\n",
    "print(df_first_round_raw.shape, df_second_round_raw.shape, df_second_round_page_filter.shape)\n"
   ]
  },
  {
   "cell_type": "code",
   "execution_count": 3,
   "metadata": {},
   "outputs": [
    {
     "data": {
      "text/html": [
       "<div>\n",
       "<style scoped>\n",
       "    .dataframe tbody tr th:only-of-type {\n",
       "        vertical-align: middle;\n",
       "    }\n",
       "\n",
       "    .dataframe tbody tr th {\n",
       "        vertical-align: top;\n",
       "    }\n",
       "\n",
       "    .dataframe thead th {\n",
       "        text-align: right;\n",
       "    }\n",
       "</style>\n",
       "<table border=\"1\" class=\"dataframe\">\n",
       "  <thead>\n",
       "    <tr style=\"text-align: right;\">\n",
       "      <th></th>\n",
       "      <th>Year</th>\n",
       "      <th>Venue</th>\n",
       "      <th>DOI</th>\n",
       "      <th>Merge</th>\n",
       "      <th>VENUE YEAR</th>\n",
       "      <th>Pages</th>\n",
       "      <th>Rater1</th>\n",
       "      <th>Rater2</th>\n",
       "      <th>Rater3</th>\n",
       "    </tr>\n",
       "  </thead>\n",
       "  <tbody>\n",
       "    <tr>\n",
       "      <th>0</th>\n",
       "      <td>2011</td>\n",
       "      <td>ASE</td>\n",
       "      <td>10.1109 ASE.2011.6100052</td>\n",
       "      <td>NO</td>\n",
       "      <td>ASE2011</td>\n",
       "      <td>10</td>\n",
       "      <td>NO</td>\n",
       "      <td>NO</td>\n",
       "      <td>NaN</td>\n",
       "    </tr>\n",
       "    <tr>\n",
       "      <th>1</th>\n",
       "      <td>2011</td>\n",
       "      <td>ASE</td>\n",
       "      <td>10.1109 ASE.2011.6100054</td>\n",
       "      <td>NO</td>\n",
       "      <td>ASE2011</td>\n",
       "      <td>1</td>\n",
       "      <td>NaN</td>\n",
       "      <td>NaN</td>\n",
       "      <td>NaN</td>\n",
       "    </tr>\n",
       "    <tr>\n",
       "      <th>2</th>\n",
       "      <td>2011</td>\n",
       "      <td>ASE</td>\n",
       "      <td>10.1109 ASE.2011.6100057</td>\n",
       "      <td>NO</td>\n",
       "      <td>ASE2011</td>\n",
       "      <td>10</td>\n",
       "      <td>NO</td>\n",
       "      <td>YES</td>\n",
       "      <td>NaN</td>\n",
       "    </tr>\n",
       "    <tr>\n",
       "      <th>3</th>\n",
       "      <td>2011</td>\n",
       "      <td>ASE</td>\n",
       "      <td>10.1109 ASE.2011.6100058</td>\n",
       "      <td>YES</td>\n",
       "      <td>ASE2011</td>\n",
       "      <td>10</td>\n",
       "      <td>YES</td>\n",
       "      <td>YES</td>\n",
       "      <td>NaN</td>\n",
       "    </tr>\n",
       "    <tr>\n",
       "      <th>4</th>\n",
       "      <td>2011</td>\n",
       "      <td>ASE</td>\n",
       "      <td>10.1109 ASE.2011.6100062</td>\n",
       "      <td>YES</td>\n",
       "      <td>ASE2011</td>\n",
       "      <td>10</td>\n",
       "      <td>YES</td>\n",
       "      <td>YES</td>\n",
       "      <td>NaN</td>\n",
       "    </tr>\n",
       "  </tbody>\n",
       "</table>\n",
       "</div>"
      ],
      "text/plain": [
       "   Year Venue                       DOI Merge VENUE YEAR  Pages Rater1 Rater2  \\\n",
       "0  2011   ASE  10.1109 ASE.2011.6100052    NO    ASE2011     10     NO     NO   \n",
       "1  2011   ASE  10.1109 ASE.2011.6100054    NO    ASE2011      1    NaN    NaN   \n",
       "2  2011   ASE  10.1109 ASE.2011.6100057    NO    ASE2011     10     NO    YES   \n",
       "3  2011   ASE  10.1109 ASE.2011.6100058   YES    ASE2011     10    YES    YES   \n",
       "4  2011   ASE  10.1109 ASE.2011.6100062   YES    ASE2011     10    YES    YES   \n",
       "\n",
       "  Rater3  \n",
       "0    NaN  \n",
       "1    NaN  \n",
       "2    NaN  \n",
       "3    NaN  \n",
       "4    NaN  "
      ]
     },
     "execution_count": 3,
     "metadata": {},
     "output_type": "execute_result"
    }
   ],
   "source": [
    "df_first_round_raw.head()"
   ]
  },
  {
   "cell_type": "code",
   "execution_count": 4,
   "metadata": {},
   "outputs": [
    {
     "data": {
      "text/html": [
       "<div>\n",
       "<style scoped>\n",
       "    .dataframe tbody tr th:only-of-type {\n",
       "        vertical-align: middle;\n",
       "    }\n",
       "\n",
       "    .dataframe tbody tr th {\n",
       "        vertical-align: top;\n",
       "    }\n",
       "\n",
       "    .dataframe thead th {\n",
       "        text-align: right;\n",
       "    }\n",
       "</style>\n",
       "<table border=\"1\" class=\"dataframe\">\n",
       "  <thead>\n",
       "    <tr style=\"text-align: right;\">\n",
       "      <th></th>\n",
       "      <th>Year</th>\n",
       "      <th>Venue</th>\n",
       "      <th>DOI</th>\n",
       "      <th>Pages</th>\n",
       "    </tr>\n",
       "  </thead>\n",
       "  <tbody>\n",
       "    <tr>\n",
       "      <th>0</th>\n",
       "      <td>2021</td>\n",
       "      <td>ASE</td>\n",
       "      <td>ASE51524.2021.9678513</td>\n",
       "      <td>5</td>\n",
       "    </tr>\n",
       "    <tr>\n",
       "      <th>1</th>\n",
       "      <td>2021</td>\n",
       "      <td>ASE</td>\n",
       "      <td>ASE51524.2021.9678514</td>\n",
       "      <td>13</td>\n",
       "    </tr>\n",
       "    <tr>\n",
       "      <th>2</th>\n",
       "      <td>2021</td>\n",
       "      <td>ASE</td>\n",
       "      <td>ASE51524.2021.9678518</td>\n",
       "      <td>5</td>\n",
       "    </tr>\n",
       "    <tr>\n",
       "      <th>3</th>\n",
       "      <td>2021</td>\n",
       "      <td>ASE</td>\n",
       "      <td>ASE51524.2021.9678520</td>\n",
       "      <td>13</td>\n",
       "    </tr>\n",
       "    <tr>\n",
       "      <th>4</th>\n",
       "      <td>2021</td>\n",
       "      <td>ASE</td>\n",
       "      <td>ASE51524.2021.9678529</td>\n",
       "      <td>5</td>\n",
       "    </tr>\n",
       "  </tbody>\n",
       "</table>\n",
       "</div>"
      ],
      "text/plain": [
       "   Year Venue                    DOI  Pages\n",
       "0  2021   ASE  ASE51524.2021.9678513      5\n",
       "1  2021   ASE  ASE51524.2021.9678514     13\n",
       "2  2021   ASE  ASE51524.2021.9678518      5\n",
       "3  2021   ASE  ASE51524.2021.9678520     13\n",
       "4  2021   ASE  ASE51524.2021.9678529      5"
      ]
     },
     "execution_count": 4,
     "metadata": {},
     "output_type": "execute_result"
    }
   ],
   "source": [
    "df_second_round_raw.head()"
   ]
  },
  {
   "cell_type": "markdown",
   "metadata": {},
   "source": [
    "## Total amount of papers and after page filtering"
   ]
  },
  {
   "cell_type": "code",
   "execution_count": 5,
   "metadata": {},
   "outputs": [
    {
     "name": "stdout",
     "output_type": "stream",
     "text": [
      "total number of papers 1382\n",
      "total number of papers in first round 931\n",
      "total number of papers in second round 451\n"
     ]
    }
   ],
   "source": [
    "\n",
    "print('total number of papers', df_first_round_raw.shape[0] + df_second_round_raw.shape[0])\n",
    "print('total number of papers in first round', df_first_round_raw.shape[0])\n",
    "print('total number of papers in second round', df_second_round_raw.shape[0])"
   ]
  },
  {
   "cell_type": "code",
   "execution_count": 6,
   "metadata": {},
   "outputs": [
    {
     "name": "stdout",
     "output_type": "stream",
     "text": [
      "total number of papers with pages >= 10: 1015\n"
     ]
    }
   ],
   "source": [
    "# filter papers with pages equal or greater than 10\n",
    "df_first_round_raw_pages = df_first_round_raw[df_first_round_raw['Pages'] >= 10]\n",
    "df_second_round_raw_pages = df_second_round_raw[df_second_round_raw['Pages'] >= 10]\n",
    "print('total number of papers with pages >= 10:', df_first_round_raw_pages.shape[0] + df_second_round_raw_pages.shape[0])"
   ]
  },
  {
   "cell_type": "code",
   "execution_count": 7,
   "metadata": {},
   "outputs": [
    {
     "data": {
      "text/plain": [
       "((672, 9), (343, 4))"
      ]
     },
     "execution_count": 7,
     "metadata": {},
     "output_type": "execute_result"
    }
   ],
   "source": [
    "df_first_round_raw_pages.shape, df_second_round_raw_pages.shape"
   ]
  },
  {
   "cell_type": "code",
   "execution_count": 8,
   "metadata": {},
   "outputs": [
    {
     "data": {
      "text/html": [
       "<div>\n",
       "<style scoped>\n",
       "    .dataframe tbody tr th:only-of-type {\n",
       "        vertical-align: middle;\n",
       "    }\n",
       "\n",
       "    .dataframe tbody tr th {\n",
       "        vertical-align: top;\n",
       "    }\n",
       "\n",
       "    .dataframe thead th {\n",
       "        text-align: right;\n",
       "    }\n",
       "</style>\n",
       "<table border=\"1\" class=\"dataframe\">\n",
       "  <thead>\n",
       "    <tr style=\"text-align: right;\">\n",
       "      <th></th>\n",
       "      <th>Year</th>\n",
       "      <th>Venue</th>\n",
       "      <th>DOI</th>\n",
       "      <th>Rater1</th>\n",
       "      <th>Rater2</th>\n",
       "      <th>Rater3</th>\n",
       "      <th>Merge</th>\n",
       "      <th>ROUND</th>\n",
       "      <th>Pages</th>\n",
       "    </tr>\n",
       "  </thead>\n",
       "  <tbody>\n",
       "    <tr>\n",
       "      <th>0</th>\n",
       "      <td>2021</td>\n",
       "      <td>ASE</td>\n",
       "      <td>ASE51524.2021.9678514</td>\n",
       "      <td>YES</td>\n",
       "      <td>YES</td>\n",
       "      <td>NaN</td>\n",
       "      <td>YES</td>\n",
       "      <td>2</td>\n",
       "      <td>13</td>\n",
       "    </tr>\n",
       "    <tr>\n",
       "      <th>1</th>\n",
       "      <td>2021</td>\n",
       "      <td>ASE</td>\n",
       "      <td>ASE51524.2021.9678520</td>\n",
       "      <td>NO</td>\n",
       "      <td>NO</td>\n",
       "      <td>NaN</td>\n",
       "      <td>NO</td>\n",
       "      <td>2</td>\n",
       "      <td>13</td>\n",
       "    </tr>\n",
       "    <tr>\n",
       "      <th>2</th>\n",
       "      <td>2021</td>\n",
       "      <td>ASE</td>\n",
       "      <td>ASE51524.2021.9678552</td>\n",
       "      <td>YES</td>\n",
       "      <td>NaN</td>\n",
       "      <td>YES</td>\n",
       "      <td>YES</td>\n",
       "      <td>2</td>\n",
       "      <td>13</td>\n",
       "    </tr>\n",
       "    <tr>\n",
       "      <th>3</th>\n",
       "      <td>2021</td>\n",
       "      <td>ASE</td>\n",
       "      <td>ASE51524.2021.9678559</td>\n",
       "      <td>NaN</td>\n",
       "      <td>YES</td>\n",
       "      <td>YES</td>\n",
       "      <td>YES</td>\n",
       "      <td>2</td>\n",
       "      <td>13</td>\n",
       "    </tr>\n",
       "    <tr>\n",
       "      <th>4</th>\n",
       "      <td>2021</td>\n",
       "      <td>ASE</td>\n",
       "      <td>ASE51524.2021.9678566</td>\n",
       "      <td>NaN</td>\n",
       "      <td>YES</td>\n",
       "      <td>YES</td>\n",
       "      <td>YES</td>\n",
       "      <td>2</td>\n",
       "      <td>13</td>\n",
       "    </tr>\n",
       "  </tbody>\n",
       "</table>\n",
       "</div>"
      ],
      "text/plain": [
       "   Year Venue                    DOI Rater1 Rater2 Rater3 Merge  ROUND  Pages\n",
       "0  2021   ASE  ASE51524.2021.9678514    YES    YES    NaN   YES      2     13\n",
       "1  2021   ASE  ASE51524.2021.9678520     NO     NO    NaN    NO      2     13\n",
       "2  2021   ASE  ASE51524.2021.9678552    YES    NaN    YES   YES      2     13\n",
       "3  2021   ASE  ASE51524.2021.9678559    NaN    YES    YES   YES      2     13\n",
       "4  2021   ASE  ASE51524.2021.9678566    NaN    YES    YES   YES      2     13"
      ]
     },
     "execution_count": 8,
     "metadata": {},
     "output_type": "execute_result"
    }
   ],
   "source": [
    "df_second_round_page_filter.head()"
   ]
  },
  {
   "cell_type": "code",
   "execution_count": 9,
   "metadata": {},
   "outputs": [
    {
     "data": {
      "text/html": [
       "<div>\n",
       "<style scoped>\n",
       "    .dataframe tbody tr th:only-of-type {\n",
       "        vertical-align: middle;\n",
       "    }\n",
       "\n",
       "    .dataframe tbody tr th {\n",
       "        vertical-align: top;\n",
       "    }\n",
       "\n",
       "    .dataframe thead th {\n",
       "        text-align: right;\n",
       "    }\n",
       "</style>\n",
       "<table border=\"1\" class=\"dataframe\">\n",
       "  <thead>\n",
       "    <tr style=\"text-align: right;\">\n",
       "      <th></th>\n",
       "      <th>Year</th>\n",
       "      <th>Venue</th>\n",
       "      <th>DOI</th>\n",
       "      <th>Merge</th>\n",
       "      <th>VENUE YEAR</th>\n",
       "      <th>Pages</th>\n",
       "      <th>Rater1</th>\n",
       "      <th>Rater2</th>\n",
       "      <th>Rater3</th>\n",
       "    </tr>\n",
       "  </thead>\n",
       "  <tbody>\n",
       "    <tr>\n",
       "      <th>0</th>\n",
       "      <td>2011</td>\n",
       "      <td>ASE</td>\n",
       "      <td>10.1109 ASE.2011.6100052</td>\n",
       "      <td>NO</td>\n",
       "      <td>ASE2011</td>\n",
       "      <td>10</td>\n",
       "      <td>NO</td>\n",
       "      <td>NO</td>\n",
       "      <td>NaN</td>\n",
       "    </tr>\n",
       "    <tr>\n",
       "      <th>2</th>\n",
       "      <td>2011</td>\n",
       "      <td>ASE</td>\n",
       "      <td>10.1109 ASE.2011.6100057</td>\n",
       "      <td>NO</td>\n",
       "      <td>ASE2011</td>\n",
       "      <td>10</td>\n",
       "      <td>NO</td>\n",
       "      <td>YES</td>\n",
       "      <td>NaN</td>\n",
       "    </tr>\n",
       "    <tr>\n",
       "      <th>3</th>\n",
       "      <td>2011</td>\n",
       "      <td>ASE</td>\n",
       "      <td>10.1109 ASE.2011.6100058</td>\n",
       "      <td>YES</td>\n",
       "      <td>ASE2011</td>\n",
       "      <td>10</td>\n",
       "      <td>YES</td>\n",
       "      <td>YES</td>\n",
       "      <td>NaN</td>\n",
       "    </tr>\n",
       "    <tr>\n",
       "      <th>4</th>\n",
       "      <td>2011</td>\n",
       "      <td>ASE</td>\n",
       "      <td>10.1109 ASE.2011.6100062</td>\n",
       "      <td>YES</td>\n",
       "      <td>ASE2011</td>\n",
       "      <td>10</td>\n",
       "      <td>YES</td>\n",
       "      <td>YES</td>\n",
       "      <td>NaN</td>\n",
       "    </tr>\n",
       "    <tr>\n",
       "      <th>5</th>\n",
       "      <td>2011</td>\n",
       "      <td>ASE</td>\n",
       "      <td>10.1109 ASE.2011.6100070</td>\n",
       "      <td>YES</td>\n",
       "      <td>ASE2011</td>\n",
       "      <td>10</td>\n",
       "      <td>YES</td>\n",
       "      <td>YES</td>\n",
       "      <td>NaN</td>\n",
       "    </tr>\n",
       "  </tbody>\n",
       "</table>\n",
       "</div>"
      ],
      "text/plain": [
       "   Year Venue                       DOI Merge VENUE YEAR  Pages Rater1 Rater2  \\\n",
       "0  2011   ASE  10.1109 ASE.2011.6100052    NO    ASE2011     10     NO     NO   \n",
       "2  2011   ASE  10.1109 ASE.2011.6100057    NO    ASE2011     10     NO    YES   \n",
       "3  2011   ASE  10.1109 ASE.2011.6100058   YES    ASE2011     10    YES    YES   \n",
       "4  2011   ASE  10.1109 ASE.2011.6100062   YES    ASE2011     10    YES    YES   \n",
       "5  2011   ASE  10.1109 ASE.2011.6100070   YES    ASE2011     10    YES    YES   \n",
       "\n",
       "  Rater3  \n",
       "0    NaN  \n",
       "2    NaN  \n",
       "3    NaN  \n",
       "4    NaN  \n",
       "5    NaN  "
      ]
     },
     "execution_count": 9,
     "metadata": {},
     "output_type": "execute_result"
    }
   ],
   "source": [
    "df_first_round_raw_pages.head()"
   ]
  },
  {
   "cell_type": "code",
   "execution_count": 10,
   "metadata": {},
   "outputs": [
    {
     "data": {
      "text/plain": [
       "((343, 9), (343, 4))"
      ]
     },
     "execution_count": 10,
     "metadata": {},
     "output_type": "execute_result"
    }
   ],
   "source": [
    "df_second_round_page_filter.shape, df_second_round_raw_pages.shape"
   ]
  },
  {
   "cell_type": "markdown",
   "metadata": {},
   "source": [
    "## Total amount of papers and after page filtering and manual filtering"
   ]
  },
  {
   "cell_type": "code",
   "execution_count": 11,
   "metadata": {},
   "outputs": [
    {
     "name": "stdout",
     "output_type": "stream",
     "text": [
      "total number of papers with pages >= 10 and Merge is YES: 580\n",
      "total number of papers with pages >= 10 and Merge is YES in first round: 345\n",
      "total number of papers with pages >= 10 and Merge is YES in second round: 235\n"
     ]
    }
   ],
   "source": [
    "# filter df_first_round_raw_pages where Merge is YES \n",
    "df_first_round_raw_pages_merge = df_first_round_raw_pages[df_first_round_raw_pages['Merge'] == 'YES']\n",
    "# filter df_first_round_raw_pages where Merge is YES \n",
    "df_second_round_page_filter_merge = df_second_round_page_filter[df_second_round_page_filter['Merge'] == 'YES']\n",
    "\n",
    "print('total number of papers with pages >= 10 and Merge is YES:', df_first_round_raw_pages_merge.shape[0] + df_second_round_page_filter_merge.shape[0])\n",
    "print('total number of papers with pages >= 10 and Merge is YES in first round:', df_first_round_raw_pages_merge.shape[0])\n",
    "print('total number of papers with pages >= 10 and Merge is YES in second round:', df_second_round_page_filter_merge.shape[0])"
   ]
  },
  {
   "cell_type": "code",
   "execution_count": 12,
   "metadata": {},
   "outputs": [
    {
     "data": {
      "text/plain": [
       "Year  Venue\n",
       "2011  ASE      0.6\n",
       "      FSE      0.6\n",
       "      ICSE     0.8\n",
       "2012  ASE      0.6\n",
       "      FSE      0.6\n",
       "      ICSE     1.6\n",
       "2013  ASE      0.8\n",
       "      FSE      1.6\n",
       "      ICSE     1.8\n",
       "2014  ASE      0.6\n",
       "      FSE      0.6\n",
       "      ICSE     2.0\n",
       "2015  ASE      1.2\n",
       "      FSE      2.0\n",
       "      ICSE     3.0\n",
       "2016  ASE      1.4\n",
       "      FSE      1.8\n",
       "      ICSE     2.4\n",
       "2017  ASE      1.4\n",
       "      FSE      2.0\n",
       "      ICSE     2.0\n",
       "2018  ASE      2.2\n",
       "      FSE      3.4\n",
       "      ICSE     1.4\n",
       "2019  ASE      3.6\n",
       "      FSE      3.4\n",
       "      ICSE     3.6\n",
       "2020  ASE      4.6\n",
       "      FSE      7.2\n",
       "      ICSE     5.4\n",
       "2021  FSE      4.8\n",
       "Name: count, dtype: float64"
      ]
     },
     "execution_count": 12,
     "metadata": {},
     "output_type": "execute_result"
    }
   ],
   "source": [
    "df_first_round_raw_pages_merge[['Year', 'Venue']].value_counts().sort_index()/5"
   ]
  },
  {
   "cell_type": "markdown",
   "metadata": {},
   "source": [
    "## Coded Papers"
   ]
  },
  {
   "cell_type": "code",
   "execution_count": 13,
   "metadata": {},
   "outputs": [],
   "source": [
    "coded_papers =[\n",
    "'10.1109 ASE.2013.6693093', '10.1145 3238147.3238166','10.1145 2635868.2635874', '10.1145 3324884.3416627','10.1145 3368089.3409687','10.1145 3338906.3340448', '10.1145 2786805.2786825','10.1109 ICSE.2012.6227129','10.1145 3377811.3380399','10.1145 3368089.3409768', '10.1145 3236024.3236059','10.1109 ICSE.2019.00086','10.1145 2786805.2786849','10.1145 3238147.3238220', '3468264.3468539','10.1145 3236024.3236058','10.1145 2491411.2491421','10.1145 2351676.2351703', '10.1145 2568225.2568260','10.1109 ICSE.2013.6606653','10.1145 2642937.2642985','10.1145 3368089.3409754', '10.1145 3236024.3236050','10.1145 2568225.2568266','10.1145 1985793.1985859','10.1109 ASE.2017.8115626', '10.1145 3180155.3180207','10.1145 2950290.2950324','10.1145 3377811.3380370','10.1145 3106237.3106285', '10.1145 2950290.2950319','10.1145 3324884.3416591','10.1109 ASE.2019.00026','10.1109 ICSE.2012.6227175', '10.1145 3368089.3409677', '10.1145 2970276.2970357','3468264.3468614','10.1109 ICSE.2019.00021', '10.1109 ASE.2015.55','10.1145 3368089.3409691','10.1109 ASE.2019.00092', '10.1109 ICSE.2017.70', '10.5555 2819009.2819034', '10.1145 2025113.2025163','10.1145 3338906.3338941','10.1109 ASE.2019.00039','10.1145 3324884.3416545','10.1145 3377811.3380369','10.1109 ICSE.2019.00076','10.1145 3377811.3380391', '3468264.3473916','10.1145 2393596.2393671','10.1109 ICSE.2017.54', '10.5555 2819009.2819018', '10.1145 3377811.3380344','10.1109 ASE.2011.6100062','10.1145 2884781.2884804', '10.1109 ICSE.2013.6606651', '10.1145 3338906.3338951','10.1145 3324884.3416570','10.1109 ASE.2019.00011','10.1109 ICSE.2019.00019', '10.1145 3324884.3416624','10.1109_ICSE43902.2021.00026','3540250.3549163','ASE51524.2021.9678559','10.1109_ICSE43902.2021.00094','3510003.3510079','3510003.3510150','3551349.3561160','3551349.3561156','10.1109_ICSE43902.2021.00046','ASE51524.2021.9678552','3540250.3549167','3540250.3549157','3510003.3510141','3540250.3549138','3510003.3510147','ASE51524.2021.9678720','3510003.3510087','3540250.3549086','3551349.3556968','3510003.3510124','3551349.3556898','3540250.3549156',\n",
    "'3510003.3510042','10.1109_ICSE43902.2021.00085','3540250.3549151','3551349.3560436','3510003.3510110','3540250.3549102','10.1109_ICSE43902.2021.00143','ASE51524.2021.9678746','10.1109_ICSE43902.2021.00086','3551349.3556900','3510003.3510205','3510003.3510138','3510003.3510071','3551349.3556940','10.1109_ICSE43902.2021.00039','3510003.3510084','ASE51524.2021.9678586','10.1109_ICSE43902.2021.00066','3510003.3510163',\n",
    "'3540250.3549115','3510003.3510202','3510003.3510206','3540250.3549124','3510003.3510196','3551349.3556955']\n"
   ]
  },
  {
   "cell_type": "markdown",
   "metadata": {},
   "source": [
    "## Total amount of papers and after page filtering and manual filtering"
   ]
  },
  {
   "cell_type": "code",
   "execution_count": 14,
   "metadata": {},
   "outputs": [
    {
     "name": "stdout",
     "output_type": "stream",
     "text": [
      "total amount of coded papers 110\n"
     ]
    }
   ],
   "source": [
    "print(\"total amount of coded papers\", len(coded_papers))"
   ]
  },
  {
   "cell_type": "code",
   "execution_count": 15,
   "metadata": {},
   "outputs": [],
   "source": [
    "# get just Pages andDOI from df_first_round_raw_pages_merge and df_second_round_page_filter_merge\n",
    "data_first_round_p = df_first_round_raw_pages_merge[['Pages', 'DOI']]\n",
    "data_second_round_p = df_second_round_page_filter_merge[['Pages', 'DOI']]\n",
    "data = pd.concat([data_first_round_p, data_second_round_p])"
   ]
  },
  {
   "cell_type": "code",
   "execution_count": 16,
   "metadata": {},
   "outputs": [
    {
     "data": {
      "text/plain": [
       "(110, 2)"
      ]
     },
     "execution_count": 16,
     "metadata": {},
     "output_type": "execute_result"
    }
   ],
   "source": [
    "# get DOI and pages from coded papers\n",
    "coded_papers_data = data[data['DOI'].isin(coded_papers)]\n",
    "coded_papers_data.shape"
   ]
  },
  {
   "cell_type": "code",
   "execution_count": 17,
   "metadata": {},
   "outputs": [
    {
     "data": {
      "text/plain": [
       "11.945454545454545"
      ]
     },
     "execution_count": 17,
     "metadata": {},
     "output_type": "execute_result"
    }
   ],
   "source": [
    "coded_papers_data.Pages.mean()"
   ]
  },
  {
   "cell_type": "markdown",
   "metadata": {},
   "source": [
    "# Compute interrater agreement"
   ]
  },
  {
   "cell_type": "code",
   "execution_count": 18,
   "metadata": {},
   "outputs": [
    {
     "name": "stdout",
     "output_type": "stream",
     "text": [
      "(672, 4) (343, 4)\n",
      "1015\n"
     ]
    }
   ],
   "source": [
    "from statsmodels.stats import inter_rater as irr\n",
    "import math\n",
    "import numpy as np\n",
    "#get the data of labeling\n",
    "data_first_round = df_first_round_raw_pages[['DOI',  'Rater1', 'Rater2', 'Rater3']].copy()\n",
    "data_second_round = df_second_round_page_filter[['DOI', 'Rater1', 'Rater2', 'Rater3']].copy()\n",
    "#print sizes of each and total\n",
    "print(data_first_round.shape, data_second_round.shape)\n",
    "print(data_first_round.shape[0] + data_second_round.shape[0])\n"
   ]
  },
  {
   "cell_type": "code",
   "execution_count": null,
   "metadata": {},
   "outputs": [],
   "source": [
    "def label_rater (row, name_column):\n",
    "    #Transform YES into 1, NO into 0 and ignore NANs, since they are not labeled\n",
    "    if row[name_column] == 'YES' :\n",
    "        return 1\n",
    "    if row[name_column] == 'NO' :\n",
    "        return 0\n",
    "    if math.isnan(row[name_column]) or row[name_column] == 0:\n",
    "        return np.nan\n",
    "    return 'NOP'"
   ]
  },
  {
   "cell_type": "code",
   "execution_count": 20,
   "metadata": {},
   "outputs": [
    {
     "data": {
      "text/plain": [
       "(1015, 4)"
      ]
     },
     "execution_count": 20,
     "metadata": {},
     "output_type": "execute_result"
    }
   ],
   "source": [
    "# join data firt round and second round (stack it)\n",
    "data = pd.concat([data_first_round, data_second_round])\n",
    "data.shape"
   ]
  },
  {
   "cell_type": "code",
   "execution_count": null,
   "metadata": {},
   "outputs": [],
   "source": [
    "raters_pre_filtering_categories = data.copy()\n",
    "#Apply the change from labels to 1 or 0 to each rater\n",
    "raters_pre_filtering_categories['nom_rat1'] =  raters_pre_filtering_categories.apply(lambda row: label_rater(row, 'Rater1'), axis=1)\n",
    "raters_pre_filtering_categories['nom_rat2'] =  raters_pre_filtering_categories.apply(lambda row: label_rater(row, 'Rater2'), axis=1)\n",
    "raters_pre_filtering_categories['nom_rat3'] =  raters_pre_filtering_categories.apply(lambda row: label_rater(row, 'Rater3'), axis=1)"
   ]
  },
  {
   "cell_type": "code",
   "execution_count": null,
   "metadata": {},
   "outputs": [
    {
     "data": {
      "text/plain": [
       "(0, 7)"
      ]
     },
     "execution_count": 22,
     "metadata": {},
     "output_type": "execute_result"
    }
   ],
   "source": [
    "#check if NOP is present in nom_rat1 or nom_rat2 or nom_rat3 (sanity check)\n",
    "raters_pre_filtering_categories[(raters_pre_filtering_categories['nom_rat1'] == 'NOP') | (raters_pre_filtering_categories['nom_rat2'] == 'NOP') | (raters_pre_filtering_categories['nom_rat3'] == 'NOP')].shape"
   ]
  },
  {
   "cell_type": "code",
   "execution_count": 23,
   "metadata": {},
   "outputs": [
    {
     "data": {
      "text/plain": [
       "(1015, 4)"
      ]
     },
     "execution_count": 23,
     "metadata": {},
     "output_type": "execute_result"
    }
   ],
   "source": [
    "raters_pre_filtering_categories.drop(['Rater1', 'Rater2', 'Rater3'], axis=1, inplace=True)\n",
    "raters_pre_filtering_categories.shape"
   ]
  },
  {
   "cell_type": "code",
   "execution_count": 24,
   "metadata": {},
   "outputs": [],
   "source": [
    "import simpledorff"
   ]
  },
  {
   "cell_type": "code",
   "execution_count": 25,
   "metadata": {},
   "outputs": [
    {
     "data": {
      "text/plain": [
       "DOI          object\n",
       "nom_rat1    float64\n",
       "nom_rat2    float64\n",
       "nom_rat3    float64\n",
       "dtype: object"
      ]
     },
     "execution_count": 25,
     "metadata": {},
     "output_type": "execute_result"
    }
   ],
   "source": [
    "raters_pre_filtering_categories.dtypes"
   ]
  },
  {
   "cell_type": "code",
   "execution_count": 26,
   "metadata": {},
   "outputs": [
    {
     "data": {
      "text/html": [
       "<div>\n",
       "<style scoped>\n",
       "    .dataframe tbody tr th:only-of-type {\n",
       "        vertical-align: middle;\n",
       "    }\n",
       "\n",
       "    .dataframe tbody tr th {\n",
       "        vertical-align: top;\n",
       "    }\n",
       "\n",
       "    .dataframe thead th {\n",
       "        text-align: right;\n",
       "    }\n",
       "</style>\n",
       "<table border=\"1\" class=\"dataframe\">\n",
       "  <thead>\n",
       "    <tr style=\"text-align: right;\">\n",
       "      <th>DOI</th>\n",
       "      <th>10.1109 ASE.2011.6100052</th>\n",
       "      <th>10.1109 ASE.2011.6100057</th>\n",
       "      <th>10.1109 ASE.2011.6100058</th>\n",
       "      <th>10.1109 ASE.2011.6100062</th>\n",
       "      <th>10.1109 ASE.2011.6100070</th>\n",
       "      <th>10.1109 ASE.2011.6100074</th>\n",
       "      <th>10.1145 2025113.2025120</th>\n",
       "      <th>10.1145 2025113.2025124</th>\n",
       "      <th>10.1145 2025113.2025133</th>\n",
       "      <th>10.1145 2025113.2025147</th>\n",
       "      <th>...</th>\n",
       "      <th>3510003.3510231</th>\n",
       "      <th>3510003.3510619</th>\n",
       "      <th>3510003.3510621</th>\n",
       "      <th>3510003.3510625</th>\n",
       "      <th>3510003.3510627</th>\n",
       "      <th>3510003.3511561</th>\n",
       "      <th>3510003.3512759</th>\n",
       "      <th>3510003.3512760</th>\n",
       "      <th>3510003.3512764</th>\n",
       "      <th>3510003.3512766</th>\n",
       "    </tr>\n",
       "  </thead>\n",
       "  <tbody>\n",
       "    <tr>\n",
       "      <th>nom_rat1</th>\n",
       "      <td>0.0</td>\n",
       "      <td>0.0</td>\n",
       "      <td>1.0</td>\n",
       "      <td>1.0</td>\n",
       "      <td>1.0</td>\n",
       "      <td>0.0</td>\n",
       "      <td>1.0</td>\n",
       "      <td>NaN</td>\n",
       "      <td>NaN</td>\n",
       "      <td>0.0</td>\n",
       "      <td>...</td>\n",
       "      <td>1.0</td>\n",
       "      <td>0.0</td>\n",
       "      <td>1.0</td>\n",
       "      <td>1.0</td>\n",
       "      <td>0.0</td>\n",
       "      <td>1.0</td>\n",
       "      <td>NaN</td>\n",
       "      <td>NaN</td>\n",
       "      <td>NaN</td>\n",
       "      <td>NaN</td>\n",
       "    </tr>\n",
       "    <tr>\n",
       "      <th>nom_rat2</th>\n",
       "      <td>0.0</td>\n",
       "      <td>1.0</td>\n",
       "      <td>1.0</td>\n",
       "      <td>1.0</td>\n",
       "      <td>1.0</td>\n",
       "      <td>NaN</td>\n",
       "      <td>NaN</td>\n",
       "      <td>0.0</td>\n",
       "      <td>1.0</td>\n",
       "      <td>NaN</td>\n",
       "      <td>...</td>\n",
       "      <td>NaN</td>\n",
       "      <td>0.0</td>\n",
       "      <td>NaN</td>\n",
       "      <td>1.0</td>\n",
       "      <td>NaN</td>\n",
       "      <td>1.0</td>\n",
       "      <td>1.0</td>\n",
       "      <td>1.0</td>\n",
       "      <td>1.0</td>\n",
       "      <td>0.0</td>\n",
       "    </tr>\n",
       "    <tr>\n",
       "      <th>nom_rat3</th>\n",
       "      <td>NaN</td>\n",
       "      <td>NaN</td>\n",
       "      <td>NaN</td>\n",
       "      <td>NaN</td>\n",
       "      <td>NaN</td>\n",
       "      <td>1.0</td>\n",
       "      <td>1.0</td>\n",
       "      <td>0.0</td>\n",
       "      <td>0.0</td>\n",
       "      <td>0.0</td>\n",
       "      <td>...</td>\n",
       "      <td>1.0</td>\n",
       "      <td>NaN</td>\n",
       "      <td>1.0</td>\n",
       "      <td>NaN</td>\n",
       "      <td>0.0</td>\n",
       "      <td>NaN</td>\n",
       "      <td>1.0</td>\n",
       "      <td>1.0</td>\n",
       "      <td>1.0</td>\n",
       "      <td>0.0</td>\n",
       "    </tr>\n",
       "  </tbody>\n",
       "</table>\n",
       "<p>3 rows × 1015 columns</p>\n",
       "</div>"
      ],
      "text/plain": [
       "DOI      10.1109 ASE.2011.6100052 10.1109 ASE.2011.6100057  \\\n",
       "nom_rat1                      0.0                      0.0   \n",
       "nom_rat2                      0.0                      1.0   \n",
       "nom_rat3                      NaN                      NaN   \n",
       "\n",
       "DOI      10.1109 ASE.2011.6100058 10.1109 ASE.2011.6100062  \\\n",
       "nom_rat1                      1.0                      1.0   \n",
       "nom_rat2                      1.0                      1.0   \n",
       "nom_rat3                      NaN                      NaN   \n",
       "\n",
       "DOI      10.1109 ASE.2011.6100070 10.1109 ASE.2011.6100074  \\\n",
       "nom_rat1                      1.0                      0.0   \n",
       "nom_rat2                      1.0                      NaN   \n",
       "nom_rat3                      NaN                      1.0   \n",
       "\n",
       "DOI      10.1145 2025113.2025120 10.1145 2025113.2025124  \\\n",
       "nom_rat1                     1.0                     NaN   \n",
       "nom_rat2                     NaN                     0.0   \n",
       "nom_rat3                     1.0                     0.0   \n",
       "\n",
       "DOI      10.1145 2025113.2025133 10.1145 2025113.2025147  ... 3510003.3510231  \\\n",
       "nom_rat1                     NaN                     0.0  ...             1.0   \n",
       "nom_rat2                     1.0                     NaN  ...             NaN   \n",
       "nom_rat3                     0.0                     0.0  ...             1.0   \n",
       "\n",
       "DOI      3510003.3510619 3510003.3510621 3510003.3510625 3510003.3510627  \\\n",
       "nom_rat1             0.0             1.0             1.0             0.0   \n",
       "nom_rat2             0.0             NaN             1.0             NaN   \n",
       "nom_rat3             NaN             1.0             NaN             0.0   \n",
       "\n",
       "DOI      3510003.3511561 3510003.3512759 3510003.3512760 3510003.3512764  \\\n",
       "nom_rat1             1.0             NaN             NaN             NaN   \n",
       "nom_rat2             1.0             1.0             1.0             1.0   \n",
       "nom_rat3             NaN             1.0             1.0             1.0   \n",
       "\n",
       "DOI      3510003.3512766  \n",
       "nom_rat1             NaN  \n",
       "nom_rat2             0.0  \n",
       "nom_rat3             0.0  \n",
       "\n",
       "[3 rows x 1015 columns]"
      ]
     },
     "execution_count": 26,
     "metadata": {},
     "output_type": "execute_result"
    }
   ],
   "source": [
    "# Get the sahpe of raters in suitable matrix for the computation of agreement\n",
    "raters_pre_filtering_categories_transpose = raters_pre_filtering_categories.transpose()\n",
    "raters_pre_filtering_categories_transpose.columns = raters_pre_filtering_categories_transpose.iloc[0]\n",
    "raters_pre_filtering_categories_transpose = raters_pre_filtering_categories_transpose.tail(-1).copy()\n",
    "raters_pre_filtering_categories_transpose\n"
   ]
  },
  {
   "cell_type": "code",
   "execution_count": 27,
   "metadata": {},
   "outputs": [
    {
     "data": {
      "text/plain": [
       "DOI\n",
       "10.1109 ASE.2011.6100052    object\n",
       "10.1109 ASE.2011.6100057    object\n",
       "10.1109 ASE.2011.6100058    object\n",
       "10.1109 ASE.2011.6100062    object\n",
       "10.1109 ASE.2011.6100070    object\n",
       "                             ...  \n",
       "3510003.3511561             object\n",
       "3510003.3512759             object\n",
       "3510003.3512760             object\n",
       "3510003.3512764             object\n",
       "3510003.3512766             object\n",
       "Length: 1015, dtype: object"
      ]
     },
     "execution_count": 27,
     "metadata": {},
     "output_type": "execute_result"
    }
   ],
   "source": [
    "raters_pre_filtering_categories_transpose.dtypes"
   ]
  },
  {
   "cell_type": "code",
   "execution_count": 28,
   "metadata": {},
   "outputs": [],
   "source": [
    "for column in raters_pre_filtering_categories_transpose.columns:\n",
    "    raters_pre_filtering_categories_transpose[column] = pd.to_numeric(raters_pre_filtering_categories_transpose[column])"
   ]
  },
  {
   "cell_type": "code",
   "execution_count": 29,
   "metadata": {},
   "outputs": [
    {
     "data": {
      "text/html": [
       "<div>\n",
       "<style scoped>\n",
       "    .dataframe tbody tr th:only-of-type {\n",
       "        vertical-align: middle;\n",
       "    }\n",
       "\n",
       "    .dataframe tbody tr th {\n",
       "        vertical-align: top;\n",
       "    }\n",
       "\n",
       "    .dataframe thead th {\n",
       "        text-align: right;\n",
       "    }\n",
       "</style>\n",
       "<table border=\"1\" class=\"dataframe\">\n",
       "  <thead>\n",
       "    <tr style=\"text-align: right;\">\n",
       "      <th>DOI</th>\n",
       "      <th>10.1109 ASE.2011.6100052</th>\n",
       "      <th>10.1109 ASE.2011.6100057</th>\n",
       "      <th>10.1109 ASE.2011.6100058</th>\n",
       "      <th>10.1109 ASE.2011.6100062</th>\n",
       "      <th>10.1109 ASE.2011.6100070</th>\n",
       "      <th>10.1109 ASE.2011.6100074</th>\n",
       "      <th>10.1145 2025113.2025120</th>\n",
       "      <th>10.1145 2025113.2025124</th>\n",
       "      <th>10.1145 2025113.2025133</th>\n",
       "      <th>10.1145 2025113.2025147</th>\n",
       "      <th>...</th>\n",
       "      <th>3510003.3510231</th>\n",
       "      <th>3510003.3510619</th>\n",
       "      <th>3510003.3510621</th>\n",
       "      <th>3510003.3510625</th>\n",
       "      <th>3510003.3510627</th>\n",
       "      <th>3510003.3511561</th>\n",
       "      <th>3510003.3512759</th>\n",
       "      <th>3510003.3512760</th>\n",
       "      <th>3510003.3512764</th>\n",
       "      <th>3510003.3512766</th>\n",
       "    </tr>\n",
       "  </thead>\n",
       "  <tbody>\n",
       "    <tr>\n",
       "      <th>nom_rat1</th>\n",
       "      <td>0.0</td>\n",
       "      <td>0.0</td>\n",
       "      <td>1.0</td>\n",
       "      <td>1.0</td>\n",
       "      <td>1.0</td>\n",
       "      <td>0.0</td>\n",
       "      <td>1.0</td>\n",
       "      <td>NaN</td>\n",
       "      <td>NaN</td>\n",
       "      <td>0.0</td>\n",
       "      <td>...</td>\n",
       "      <td>1.0</td>\n",
       "      <td>0.0</td>\n",
       "      <td>1.0</td>\n",
       "      <td>1.0</td>\n",
       "      <td>0.0</td>\n",
       "      <td>1.0</td>\n",
       "      <td>NaN</td>\n",
       "      <td>NaN</td>\n",
       "      <td>NaN</td>\n",
       "      <td>NaN</td>\n",
       "    </tr>\n",
       "    <tr>\n",
       "      <th>nom_rat2</th>\n",
       "      <td>0.0</td>\n",
       "      <td>1.0</td>\n",
       "      <td>1.0</td>\n",
       "      <td>1.0</td>\n",
       "      <td>1.0</td>\n",
       "      <td>NaN</td>\n",
       "      <td>NaN</td>\n",
       "      <td>0.0</td>\n",
       "      <td>1.0</td>\n",
       "      <td>NaN</td>\n",
       "      <td>...</td>\n",
       "      <td>NaN</td>\n",
       "      <td>0.0</td>\n",
       "      <td>NaN</td>\n",
       "      <td>1.0</td>\n",
       "      <td>NaN</td>\n",
       "      <td>1.0</td>\n",
       "      <td>1.0</td>\n",
       "      <td>1.0</td>\n",
       "      <td>1.0</td>\n",
       "      <td>0.0</td>\n",
       "    </tr>\n",
       "    <tr>\n",
       "      <th>nom_rat3</th>\n",
       "      <td>NaN</td>\n",
       "      <td>NaN</td>\n",
       "      <td>NaN</td>\n",
       "      <td>NaN</td>\n",
       "      <td>NaN</td>\n",
       "      <td>1.0</td>\n",
       "      <td>1.0</td>\n",
       "      <td>0.0</td>\n",
       "      <td>0.0</td>\n",
       "      <td>0.0</td>\n",
       "      <td>...</td>\n",
       "      <td>1.0</td>\n",
       "      <td>NaN</td>\n",
       "      <td>1.0</td>\n",
       "      <td>NaN</td>\n",
       "      <td>0.0</td>\n",
       "      <td>NaN</td>\n",
       "      <td>1.0</td>\n",
       "      <td>1.0</td>\n",
       "      <td>1.0</td>\n",
       "      <td>0.0</td>\n",
       "    </tr>\n",
       "  </tbody>\n",
       "</table>\n",
       "<p>3 rows × 1015 columns</p>\n",
       "</div>"
      ],
      "text/plain": [
       "DOI       10.1109 ASE.2011.6100052  10.1109 ASE.2011.6100057  \\\n",
       "nom_rat1                       0.0                       0.0   \n",
       "nom_rat2                       0.0                       1.0   \n",
       "nom_rat3                       NaN                       NaN   \n",
       "\n",
       "DOI       10.1109 ASE.2011.6100058  10.1109 ASE.2011.6100062  \\\n",
       "nom_rat1                       1.0                       1.0   \n",
       "nom_rat2                       1.0                       1.0   \n",
       "nom_rat3                       NaN                       NaN   \n",
       "\n",
       "DOI       10.1109 ASE.2011.6100070  10.1109 ASE.2011.6100074  \\\n",
       "nom_rat1                       1.0                       0.0   \n",
       "nom_rat2                       1.0                       NaN   \n",
       "nom_rat3                       NaN                       1.0   \n",
       "\n",
       "DOI       10.1145 2025113.2025120  10.1145 2025113.2025124  \\\n",
       "nom_rat1                      1.0                      NaN   \n",
       "nom_rat2                      NaN                      0.0   \n",
       "nom_rat3                      1.0                      0.0   \n",
       "\n",
       "DOI       10.1145 2025113.2025133  10.1145 2025113.2025147  ...  \\\n",
       "nom_rat1                      NaN                      0.0  ...   \n",
       "nom_rat2                      1.0                      NaN  ...   \n",
       "nom_rat3                      0.0                      0.0  ...   \n",
       "\n",
       "DOI       3510003.3510231  3510003.3510619  3510003.3510621  3510003.3510625  \\\n",
       "nom_rat1              1.0              0.0              1.0              1.0   \n",
       "nom_rat2              NaN              0.0              NaN              1.0   \n",
       "nom_rat3              1.0              NaN              1.0              NaN   \n",
       "\n",
       "DOI       3510003.3510627  3510003.3511561  3510003.3512759  3510003.3512760  \\\n",
       "nom_rat1              0.0              1.0              NaN              NaN   \n",
       "nom_rat2              NaN              1.0              1.0              1.0   \n",
       "nom_rat3              0.0              NaN              1.0              1.0   \n",
       "\n",
       "DOI       3510003.3512764  3510003.3512766  \n",
       "nom_rat1              NaN              NaN  \n",
       "nom_rat2              1.0              0.0  \n",
       "nom_rat3              1.0              0.0  \n",
       "\n",
       "[3 rows x 1015 columns]"
      ]
     },
     "execution_count": 29,
     "metadata": {},
     "output_type": "execute_result"
    }
   ],
   "source": [
    "raters_pre_filtering_categories_transpose"
   ]
  },
  {
   "cell_type": "markdown",
   "metadata": {},
   "source": [
    "## Interrater agreement of the papers"
   ]
  },
  {
   "cell_type": "code",
   "execution_count": 30,
   "metadata": {},
   "outputs": [
    {
     "data": {
      "text/plain": [
       "0.6687883894870259"
      ]
     },
     "execution_count": 30,
     "metadata": {},
     "output_type": "execute_result"
    }
   ],
   "source": [
    "simpledorff.calculate_krippendorffs_alpha(raters_pre_filtering_categories_transpose)"
   ]
  },
  {
   "cell_type": "code",
   "execution_count": 31,
   "metadata": {},
   "outputs": [
    {
     "data": {
      "text/plain": [
       "0.6687883894870259"
      ]
     },
     "execution_count": 31,
     "metadata": {},
     "output_type": "execute_result"
    }
   ],
   "source": [
    "import krippendorff\n",
    "krippendorff.alpha(reliability_data=raters_pre_filtering_categories_transpose, level_of_measurement=\"nominal\")"
   ]
  },
  {
   "cell_type": "markdown",
   "metadata": {},
   "source": [
    "# Get Info of authors and statistics of papers\n",
    "### Please note that due to privacy reasons this information is not included in the excel and instead is filled out with a placeholder."
   ]
  },
  {
   "cell_type": "code",
   "execution_count": 33,
   "metadata": {},
   "outputs": [
    {
     "name": "stdout",
     "output_type": "stream",
     "text": [
      "(1583, 10) (1209, 9)\n"
     ]
    }
   ],
   "source": [
    "#read excel full pages\n",
    "df_first_round = pd.read_excel('../Data/Initial_info_of_papers/authors_and_papers_2020.xlsx', sheet_name=None)\n",
    "df_second_round = pd.read_excel('../Data/Initial_info_of_papers/author_and_paper_2021_22.xlsx', sheet_name=None)\n",
    "\n",
    "\n",
    "#These authors are missing to filtered by the merge, they are already filtered by page\n",
    "df_first_round_authors = df_first_round['Authors']\n",
    "# These authors are anly for the already filtered papers  by page and merged\n",
    "df_second_round_authors = df_second_round['Authors']\n",
    "\n",
    "# filter first by mergee YES\n",
    "df_first_round_authors = df_first_round_authors[df_first_round_authors['Merge'] == 'YES'].copy()\n",
    "\n",
    "print(df_first_round_authors.shape, df_second_round_authors.shape)\n",
    "\n"
   ]
  },
  {
   "cell_type": "code",
   "execution_count": 34,
   "metadata": {},
   "outputs": [
    {
     "name": "stdout",
     "output_type": "stream",
     "text": [
      "(1583, 6) (1209, 6)\n"
     ]
    }
   ],
   "source": [
    "df_first_round_authors_copy = df_first_round_authors[['Year', 'Venue', 'DOI', 'Author', 'Email','Firt or last']].copy()\n",
    "df_second_round_authors_copy = df_second_round_authors[['Year', 'Venue', 'DOI', 'Author', 'Email','Firt or last']].copy()\n",
    "print(df_first_round_authors_copy.shape, df_second_round_authors_copy.shape)"
   ]
  },
  {
   "cell_type": "markdown",
   "metadata": {},
   "source": [
    "## Total amount of Authors and Unique Authors\n",
    "### Please take into account the nore at the top of the file"
   ]
  },
  {
   "cell_type": "code",
   "execution_count": 35,
   "metadata": {},
   "outputs": [
    {
     "name": "stdout",
     "output_type": "stream",
     "text": [
      "number of authors (2792, 6)\n"
     ]
    }
   ],
   "source": [
    "data_authors = pd.concat([df_first_round_authors_copy, df_second_round_authors_copy])\n",
    "print('number of authors', data_authors.shape)"
   ]
  },
  {
   "cell_type": "code",
   "execution_count": 36,
   "metadata": {},
   "outputs": [
    {
     "name": "stdout",
     "output_type": "stream",
     "text": [
      "number of unique authors 1734\n"
     ]
    }
   ],
   "source": [
    "print('number of unique authors', data_authors.Author.nunique())"
   ]
  },
  {
   "cell_type": "code",
   "execution_count": null,
   "metadata": {},
   "outputs": [],
   "source": [
    "number_article_author = data_authors.groupby(['Author'])['DOI'].size().sort_values(ascending=False).reset_index(name='number_articles')\n",
    "number_article_author.head()"
   ]
  },
  {
   "cell_type": "code",
   "execution_count": 40,
   "metadata": {},
   "outputs": [
    {
     "data": {
      "text/plain": [
       "1.610149942329873"
      ]
     },
     "execution_count": 40,
     "metadata": {},
     "output_type": "execute_result"
    }
   ],
   "source": [
    "number_article_author['number_articles'].mean()"
   ]
  },
  {
   "cell_type": "markdown",
   "metadata": {},
   "source": [
    "### Authors contacted"
   ]
  },
  {
   "cell_type": "code",
   "execution_count": 41,
   "metadata": {},
   "outputs": [
    {
     "name": "stdout",
     "output_type": "stream",
     "text": [
      "authors contacted with duplicates and no email (1158, 6)\n",
      "authors that could be contacted due to email existance (1090, 6)\n",
      "authors contacted without duplicates possible nanvalues (829, 6)\n",
      "authors contacted (769, 6)\n"
     ]
    }
   ],
   "source": [
    "# Filter those that were dirst or last author, and drop duplicates\n",
    "data_authors_copy = data_authors[data_authors['Firt or last'] == True].copy()\n",
    "# data_authors_copy.drop_duplicates(inplace=True)\n",
    "print('authors contacted with duplicates and no email', data_authors_copy.shape)\n",
    "# drop authors that have nan values in email\n",
    "print('authors that could be contacted due to email existance', data_authors_copy.dropna(subset=['Email']).shape)\n",
    "# drop duplicates\n",
    "print('authors contacted without duplicates possible nanvalues', data_authors_copy.drop_duplicates(subset=['Author']).shape)\n",
    "data_authors_copy.dropna(subset=['Email'], inplace=True)\n",
    "data_authors_copy.drop_duplicates(subset=['Author'], inplace=True)\n",
    "print('authors contacted', data_authors_copy.shape)\n"
   ]
  },
  {
   "cell_type": "markdown",
   "metadata": {},
   "source": []
  }
 ],
 "metadata": {
  "kernelspec": {
   "display_name": "gpaper",
   "language": "python",
   "name": "python3"
  },
  "language_info": {
   "codemirror_mode": {
    "name": "ipython",
    "version": 3
   },
   "file_extension": ".py",
   "mimetype": "text/x-python",
   "name": "python",
   "nbconvert_exporter": "python",
   "pygments_lexer": "ipython3",
   "version": "3.12.7"
  }
 },
 "nbformat": 4,
 "nbformat_minor": 2
}
